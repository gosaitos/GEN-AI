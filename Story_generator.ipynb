{
  "nbformat": 4,
  "nbformat_minor": 0,
  "metadata": {
    "colab": {
      "provenance": [],
      "gpuType": "T4",
      "authorship_tag": "ABX9TyOxCWSmGN24k7cHiavRc9qH",
      "include_colab_link": true
    },
    "kernelspec": {
      "name": "python3",
      "display_name": "Python 3"
    },
    "language_info": {
      "name": "python"
    },
    "accelerator": "GPU"
  },
  "cells": [
    {
      "cell_type": "markdown",
      "metadata": {
        "id": "view-in-github",
        "colab_type": "text"
      },
      "source": [
        "<a href=\"https://colab.research.google.com/github/gosaitos/GEN-AI/blob/main/Story_generator.ipynb\" target=\"_parent\"><img src=\"https://colab.research.google.com/assets/colab-badge.svg\" alt=\"Open In Colab\"/></a>"
      ]
    },
    {
      "cell_type": "code",
      "execution_count": 4,
      "metadata": {
        "id": "19-Ued2gBvNO"
      },
      "outputs": [],
      "source": [
        "#!pip install transformers gradio accelerate\n"
      ]
    },
    {
      "cell_type": "code",
      "source": [
        "import gradio as gr\n",
        "from transformers import pipeline\n",
        "\n",
        "# Load a text generation pipeline with a free model\n",
        "story_gen = pipeline(\"text-generation\", model=\"pranavpsv/gpt2-genre-story-generator\", device_map=\"auto\", torch_dtype=\"auto\")\n",
        "\n",
        "# Function to generate the story\n",
        "def generate_story(prompt):\n",
        "    formatted_prompt = f\"Write a short story based on this idea:\\n{prompt}\\n\\nStory:\"\n",
        "    result = story_gen(formatted_prompt, max_length=500, do_sample=True, temperature=0.9)[0]['generated_text']\n",
        "    return result.split(\"Story:\")[-1].strip()\n",
        "\n",
        "# Gradio UI\n",
        "gr.Interface(\n",
        "    fn=generate_story,\n",
        "    inputs=gr.Textbox(label=\"Enter your story idea\", placeholder=\"e.g., A boy discovers a dragon egg\"),\n",
        "    outputs=gr.Textbox(label=\"Generated Story\"),\n",
        "    title=\"📖 Text-to-Story Generator\",\n",
        "    description=\"Give a prompt, get a creative story! Powered by Mistral-7B from Hugging Face.\"\n",
        ").launch()"
      ],
      "metadata": {
        "colab": {
          "base_uri": "https://localhost:8080/",
          "height": 663
        },
        "id": "gEyytzzSB6gQ",
        "outputId": "f4428160-c86b-4830-9e1e-dbe38706747a"
      },
      "execution_count": 6,
      "outputs": [
        {
          "output_type": "stream",
          "name": "stderr",
          "text": [
            "Device set to use cpu\n"
          ]
        },
        {
          "output_type": "stream",
          "name": "stdout",
          "text": [
            "It looks like you are running Gradio on a hosted a Jupyter notebook. For the Gradio app to work, sharing must be enabled. Automatically setting `share=True` (you can turn this off by setting `share=False` in `launch()` explicitly).\n",
            "\n",
            "Colab notebook detected. To show errors in colab notebook, set debug=True in launch()\n",
            "* Running on public URL: https://23cab22987236a3cfc.gradio.live\n",
            "\n",
            "This share link expires in 1 week. For free permanent hosting and GPU upgrades, run `gradio deploy` from the terminal in the working directory to deploy to Hugging Face Spaces (https://huggingface.co/spaces)\n"
          ]
        },
        {
          "output_type": "display_data",
          "data": {
            "text/plain": [
              "<IPython.core.display.HTML object>"
            ],
            "text/html": [
              "<div><iframe src=\"https://23cab22987236a3cfc.gradio.live\" width=\"100%\" height=\"500\" allow=\"autoplay; camera; microphone; clipboard-read; clipboard-write;\" frameborder=\"0\" allowfullscreen></iframe></div>"
            ]
          },
          "metadata": {}
        },
        {
          "output_type": "execute_result",
          "data": {
            "text/plain": []
          },
          "metadata": {},
          "execution_count": 6
        }
      ]
    },
    {
      "cell_type": "code",
      "source": [],
      "metadata": {
        "id": "R2bXJQ1xC4Fy"
      },
      "execution_count": null,
      "outputs": []
    }
  ]
}