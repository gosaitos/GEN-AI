{
  "nbformat": 4,
  "nbformat_minor": 0,
  "metadata": {
    "colab": {
      "provenance": [],
      "gpuType": "T4",
      "authorship_tag": "ABX9TyM3RyQ4DkobxI3bnmzoS2KM",
      "include_colab_link": true
    },
    "kernelspec": {
      "name": "python3",
      "display_name": "Python 3"
    },
    "language_info": {
      "name": "python"
    },
    "accelerator": "GPU"
  },
  "cells": [
    {
      "cell_type": "markdown",
      "metadata": {
        "id": "view-in-github",
        "colab_type": "text"
      },
      "source": [
        "<a href=\"https://colab.research.google.com/github/gosaitos/GEN-AI/blob/main/Diffusion_model.ipynb\" target=\"_parent\"><img src=\"https://colab.research.google.com/assets/colab-badge.svg\" alt=\"Open In Colab\"/></a>"
      ]
    },
    {
      "cell_type": "code",
      "execution_count": 3,
      "metadata": {
        "id": "57vd0mJqWW_v"
      },
      "outputs": [],
      "source": [
        "#!pip install diffusers transformers accelerate torch safetensors opencv-python"
      ]
    },
    {
      "cell_type": "code",
      "source": [
        "from diffusers import StableDiffusionPipeline\n",
        "import torch\n",
        "import os\n",
        "import cv2\n",
        "\n",
        "# -------------------------------------\n",
        "# ✅ Load Free Anime Model (No Login Needed)\n",
        "# -------------------------------------\n",
        "pipe = StableDiffusionPipeline.from_pretrained(\n",
        "    \"CompVis/stable-diffusion-v1-4\",\n",
        "    torch_dtype=torch.float16\n",
        ").to(\"cuda\")\n",
        "\n",
        "# -------------------------------------\n",
        "# 🔹 Output Directory for Frames\n",
        "# -------------------------------------\n",
        "output_dir = \"anime_frames\"\n",
        "os.makedirs(output_dir, exist_ok=True)\n",
        "\n",
        "# -------------------------------------\n",
        "# 🔹 Prompt & Generation Settings\n",
        "# -------------------------------------\n",
        "prompt = \"a cinematic anime landscape with a girl in the wind, cherry blossoms, ultra detailed, by Makoto Shinkai\"\n",
        "num_frames = 10\n",
        "guidance_scale = 7.5\n",
        "height, width = 512, 512\n",
        "\n",
        "# -------------------------------------\n",
        "# 🔹 Generate Frames\n",
        "# -------------------------------------\n",
        "print(\"🎨 Generating anime-style frames...\")\n",
        "for i in range(num_frames):\n",
        "    image = pipe(\n",
        "        prompt,\n",
        "        guidance_scale=guidance_scale,\n",
        "        height=height,\n",
        "        width=width,\n",
        "        num_inference_steps=30,\n",
        "        generator=torch.manual_seed(i)\n",
        "    ).images[0]\n",
        "\n",
        "    image.save(f\"{output_dir}/frame_{i:04d}.png\")\n",
        "    print(f\"✅ Frame {i+1}/{num_frames} saved\")\n",
        "\n",
        "# -------------------------------------\n",
        "# 🔹 Create Video from Frames\n",
        "# -------------------------------------\n",
        "def create_video_from_frames(folder, output_path, fps=10):\n",
        "    print(\"🎞️ Stitching video...\")\n",
        "    images = sorted([img for img in os.listdir(folder) if img.endswith(\".png\")])\n",
        "    frame_array = [cv2.imread(os.path.join(folder, img)) for img in images]\n",
        "\n",
        "    height, width, _ = frame_array[0].shape\n",
        "    out = cv2.VideoWriter(output_path, cv2.VideoWriter_fourcc(*'mp4v'), fps, (width, height))\n",
        "\n",
        "    for frame in frame_array:\n",
        "        out.write(frame)\n",
        "    out.release()\n",
        "    print(f\"🎬 Done! Video saved as {output_path}\")\n",
        "\n",
        "create_video_from_frames(output_dir, \"anime_video.mp4\", fps=10)\n"
      ],
      "metadata": {
        "id": "-kLDBTscWnDV"
      },
      "execution_count": null,
      "outputs": []
    },
    {
      "cell_type": "code",
      "source": [],
      "metadata": {
        "id": "ZIZpyWrMYLwd"
      },
      "execution_count": null,
      "outputs": []
    }
  ]
}